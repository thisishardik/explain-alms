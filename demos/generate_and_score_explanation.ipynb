{
 "cells": [
  {
   "cell_type": "code",
   "execution_count": null,
   "metadata": {},
   "outputs": [],
   "source": [
    "%load_ext autoreload\n",
    "%autoreload 2"
   ]
  },
  {
   "cell_type": "code",
   "execution_count": null,
   "metadata": {},
   "outputs": [
    {
     "name": "stdout",
     "output_type": "stream",
     "text": [
      "explanation='numbers and quantitative expressions.'\n",
      "{'error': {'message': \"Setting 'echo' and 'logprobs' at the same time is not supported for this model.\", 'type': 'invalid_request_error', 'param': 'echo', 'code': 'invalid_parameter_combination'}}\n"
     ]
    },
    {
     "ename": "HTTPStatusError",
     "evalue": "Client error '400 Bad Request' for url 'https://api.openai.com/v1/completions'\nFor more information check: https://developer.mozilla.org/en-US/docs/Web/HTTP/Status/400",
     "output_type": "error",
     "traceback": [
      "\u001b[0;31m---------------------------------------------------------------------------\u001b[0m",
      "\u001b[0;31mHTTPStatusError\u001b[0m                           Traceback (most recent call last)",
      "Cell \u001b[0;32mIn[4], line 58\u001b[0m\n\u001b[1;32m     48\u001b[0m \u001b[38;5;66;03m# Simulate and score the explanation.\u001b[39;00m\n\u001b[1;32m     49\u001b[0m simulator \u001b[38;5;241m=\u001b[39m UncalibratedNeuronSimulator(\n\u001b[1;32m     50\u001b[0m     ExplanationNeuronSimulator(\n\u001b[1;32m     51\u001b[0m         SIMULATOR_MODEL_NAME,\n\u001b[0;32m   (...)\u001b[0m\n\u001b[1;32m     55\u001b[0m     )\n\u001b[1;32m     56\u001b[0m )\n\u001b[0;32m---> 58\u001b[0m scored_simulation \u001b[38;5;241m=\u001b[39m \u001b[38;5;28;01mawait\u001b[39;00m simulate_and_score(simulator, valid_activation_records)\n\u001b[1;32m     59\u001b[0m \u001b[38;5;28mprint\u001b[39m(\u001b[38;5;124mf\u001b[39m\u001b[38;5;124m\"\u001b[39m\u001b[38;5;124mscore=\u001b[39m\u001b[38;5;132;01m{\u001b[39;00mscored_simulation\u001b[38;5;241m.\u001b[39mget_preferred_score()\u001b[38;5;132;01m:\u001b[39;00m\u001b[38;5;124m.2f\u001b[39m\u001b[38;5;132;01m}\u001b[39;00m\u001b[38;5;124m\"\u001b[39m)\n",
      "File \u001b[0;32m~/anaconda3/envs/llm-venv/lib/python3.9/site-packages/neuron_explainer/explanations/scoring.py:137\u001b[0m, in \u001b[0;36msimulate_and_score\u001b[0;34m(simulator, activation_records)\u001b[0m\n\u001b[1;32m    129\u001b[0m \u001b[38;5;28;01masync\u001b[39;00m \u001b[38;5;28;01mdef\u001b[39;00m \u001b[38;5;21msimulate_and_score\u001b[39m(\n\u001b[1;32m    130\u001b[0m     simulator: NeuronSimulator,\n\u001b[1;32m    131\u001b[0m     activation_records: Sequence[ActivationRecord],\n\u001b[1;32m    132\u001b[0m ) \u001b[38;5;241m-\u001b[39m\u001b[38;5;241m>\u001b[39m ScoredSimulation:\n\u001b[1;32m    133\u001b[0m \u001b[38;5;250m    \u001b[39m\u001b[38;5;124;03m\"\"\"\u001b[39;00m\n\u001b[1;32m    134\u001b[0m \u001b[38;5;124;03m    Score an explanation of a neuron by how well it predicts activations on the given text\u001b[39;00m\n\u001b[1;32m    135\u001b[0m \u001b[38;5;124;03m    sequences.\u001b[39;00m\n\u001b[1;32m    136\u001b[0m \u001b[38;5;124;03m    \"\"\"\u001b[39;00m\n\u001b[0;32m--> 137\u001b[0m     scored_sequence_simulations \u001b[38;5;241m=\u001b[39m \u001b[38;5;28;01mawait\u001b[39;00m asyncio\u001b[38;5;241m.\u001b[39mgather(\n\u001b[1;32m    138\u001b[0m         \u001b[38;5;241m*\u001b[39m[\n\u001b[1;32m    139\u001b[0m             _simulate_and_score_sequence(\n\u001b[1;32m    140\u001b[0m                 simulator,\n\u001b[1;32m    141\u001b[0m                 activation_record,\n\u001b[1;32m    142\u001b[0m             )\n\u001b[1;32m    143\u001b[0m             \u001b[38;5;28;01mfor\u001b[39;00m activation_record \u001b[38;5;129;01min\u001b[39;00m activation_records\n\u001b[1;32m    144\u001b[0m         ]\n\u001b[1;32m    145\u001b[0m     )\n\u001b[1;32m    146\u001b[0m     \u001b[38;5;28;01mreturn\u001b[39;00m aggregate_scored_sequence_simulations(scored_sequence_simulations)\n",
      "File \u001b[0;32m~/anaconda3/envs/llm-venv/lib/python3.9/site-packages/neuron_explainer/explanations/scoring.py:82\u001b[0m, in \u001b[0;36m_simulate_and_score_sequence\u001b[0;34m(simulator, activations)\u001b[0m\n\u001b[1;32m     78\u001b[0m \u001b[38;5;28;01masync\u001b[39;00m \u001b[38;5;28;01mdef\u001b[39;00m \u001b[38;5;21m_simulate_and_score_sequence\u001b[39m(\n\u001b[1;32m     79\u001b[0m     simulator: NeuronSimulator, activations: ActivationRecord\n\u001b[1;32m     80\u001b[0m ) \u001b[38;5;241m-\u001b[39m\u001b[38;5;241m>\u001b[39m ScoredSequenceSimulation:\n\u001b[1;32m     81\u001b[0m \u001b[38;5;250m    \u001b[39m\u001b[38;5;124;03m\"\"\"Score an explanation of a neuron by how well it predicts activations on a sentence.\"\"\"\u001b[39;00m\n\u001b[0;32m---> 82\u001b[0m     simulation \u001b[38;5;241m=\u001b[39m \u001b[38;5;28;01mawait\u001b[39;00m simulator\u001b[38;5;241m.\u001b[39msimulate(activations\u001b[38;5;241m.\u001b[39mtokens)\n\u001b[1;32m     83\u001b[0m     logging\u001b[38;5;241m.\u001b[39mdebug(simulation)\n\u001b[1;32m     84\u001b[0m     rsquared_score \u001b[38;5;241m=\u001b[39m score_from_simulation(activations, simulation, rsquared_score_from_sequences)\n",
      "File \u001b[0;32m~/anaconda3/envs/llm-venv/lib/python3.9/site-packages/neuron_explainer/explanations/calibrated_simulator.py:102\u001b[0m, in \u001b[0;36mCalibratedNeuronSimulator.simulate\u001b[0;34m(self, tokens)\u001b[0m\n\u001b[1;32m    101\u001b[0m \u001b[38;5;28;01masync\u001b[39;00m \u001b[38;5;28;01mdef\u001b[39;00m \u001b[38;5;21msimulate\u001b[39m(\u001b[38;5;28mself\u001b[39m, tokens: Sequence[\u001b[38;5;28mstr\u001b[39m]) \u001b[38;5;241m-\u001b[39m\u001b[38;5;241m>\u001b[39m SequenceSimulation:\n\u001b[0;32m--> 102\u001b[0m     uncalibrated_seq_simulation \u001b[38;5;241m=\u001b[39m \u001b[38;5;28;01mawait\u001b[39;00m \u001b[38;5;28mself\u001b[39m\u001b[38;5;241m.\u001b[39muncalibrated_simulator\u001b[38;5;241m.\u001b[39msimulate(tokens)\n\u001b[1;32m    103\u001b[0m     calibrated_activations \u001b[38;5;241m=\u001b[39m \u001b[38;5;28mself\u001b[39m\u001b[38;5;241m.\u001b[39mapply_calibration(\n\u001b[1;32m    104\u001b[0m         uncalibrated_seq_simulation\u001b[38;5;241m.\u001b[39mexpected_activations\n\u001b[1;32m    105\u001b[0m     )\n\u001b[1;32m    106\u001b[0m     calibrated_distribution_values \u001b[38;5;241m=\u001b[39m [\n\u001b[1;32m    107\u001b[0m         \u001b[38;5;28mself\u001b[39m\u001b[38;5;241m.\u001b[39mapply_calibration(dv) \u001b[38;5;28;01mfor\u001b[39;00m dv \u001b[38;5;129;01min\u001b[39;00m uncalibrated_seq_simulation\u001b[38;5;241m.\u001b[39mdistribution_values\n\u001b[1;32m    108\u001b[0m     ]\n",
      "File \u001b[0;32m~/anaconda3/envs/llm-venv/lib/python3.9/site-packages/neuron_explainer/explanations/simulator.py:344\u001b[0m, in \u001b[0;36mExplanationNeuronSimulator.simulate\u001b[0;34m(self, tokens)\u001b[0m\n\u001b[1;32m    341\u001b[0m     \u001b[38;5;28;01massert\u001b[39;00m \u001b[38;5;28misinstance\u001b[39m(prompt, \u001b[38;5;28mstr\u001b[39m)\n\u001b[1;32m    342\u001b[0m     generate_kwargs[\u001b[38;5;124m\"\u001b[39m\u001b[38;5;124mprompt\u001b[39m\u001b[38;5;124m\"\u001b[39m] \u001b[38;5;241m=\u001b[39m prompt\n\u001b[0;32m--> 344\u001b[0m response \u001b[38;5;241m=\u001b[39m \u001b[38;5;28;01mawait\u001b[39;00m \u001b[38;5;28mself\u001b[39m\u001b[38;5;241m.\u001b[39mapi_client\u001b[38;5;241m.\u001b[39mmake_request(\u001b[38;5;241m*\u001b[39m\u001b[38;5;241m*\u001b[39mgenerate_kwargs)\n\u001b[1;32m    345\u001b[0m logger\u001b[38;5;241m.\u001b[39mdebug(\u001b[38;5;124m\"\u001b[39m\u001b[38;5;124mresponse in score_explanation_by_activations is \u001b[39m\u001b[38;5;132;01m%s\u001b[39;00m\u001b[38;5;124m\"\u001b[39m, response)\n\u001b[1;32m    346\u001b[0m result \u001b[38;5;241m=\u001b[39m parse_simulation_response(response, \u001b[38;5;28mself\u001b[39m\u001b[38;5;241m.\u001b[39mprompt_format, tokens)\n",
      "File \u001b[0;32m~/anaconda3/envs/llm-venv/lib/python3.9/site-packages/neuron_explainer/api_client.py:70\u001b[0m, in \u001b[0;36mexponential_backoff.<locals>.decorate.<locals>.f_retry\u001b[0;34m(*args, **kwargs)\u001b[0m\n\u001b[1;32m     68\u001b[0m \u001b[38;5;28;01mfor\u001b[39;00m i \u001b[38;5;129;01min\u001b[39;00m \u001b[38;5;28mrange\u001b[39m(max_tries):\n\u001b[1;32m     69\u001b[0m     \u001b[38;5;28;01mtry\u001b[39;00m:\n\u001b[0;32m---> 70\u001b[0m         \u001b[38;5;28;01mreturn\u001b[39;00m \u001b[38;5;28;01mawait\u001b[39;00m f(\u001b[38;5;241m*\u001b[39margs, \u001b[38;5;241m*\u001b[39m\u001b[38;5;241m*\u001b[39mkwargs)\n\u001b[1;32m     71\u001b[0m     \u001b[38;5;28;01mexcept\u001b[39;00m \u001b[38;5;167;01mException\u001b[39;00m \u001b[38;5;28;01mas\u001b[39;00m err:\n\u001b[1;32m     72\u001b[0m         \u001b[38;5;28;01mif\u001b[39;00m \u001b[38;5;129;01mnot\u001b[39;00m retry_on(err) \u001b[38;5;129;01mor\u001b[39;00m i \u001b[38;5;241m==\u001b[39m max_tries \u001b[38;5;241m-\u001b[39m \u001b[38;5;241m1\u001b[39m:\n",
      "File \u001b[0;32m~/anaconda3/envs/llm-venv/lib/python3.9/site-packages/neuron_explainer/api_client.py:140\u001b[0m, in \u001b[0;36mApiClient.make_request\u001b[0;34m(self, timeout_seconds, **kwargs)\u001b[0m\n\u001b[1;32m    138\u001b[0m \u001b[38;5;28;01mexcept\u001b[39;00m \u001b[38;5;167;01mException\u001b[39;00m \u001b[38;5;28;01mas\u001b[39;00m e:\n\u001b[1;32m    139\u001b[0m     \u001b[38;5;28mprint\u001b[39m(response\u001b[38;5;241m.\u001b[39mjson())\n\u001b[0;32m--> 140\u001b[0m     \u001b[38;5;28;01mraise\u001b[39;00m e\n\u001b[1;32m    141\u001b[0m \u001b[38;5;28;01mif\u001b[39;00m \u001b[38;5;28mself\u001b[39m\u001b[38;5;241m.\u001b[39m_cache \u001b[38;5;129;01mis\u001b[39;00m \u001b[38;5;129;01mnot\u001b[39;00m \u001b[38;5;28;01mNone\u001b[39;00m:\n\u001b[1;32m    142\u001b[0m     \u001b[38;5;28mself\u001b[39m\u001b[38;5;241m.\u001b[39m_cache[key] \u001b[38;5;241m=\u001b[39m response\u001b[38;5;241m.\u001b[39mjson()\n",
      "File \u001b[0;32m~/anaconda3/envs/llm-venv/lib/python3.9/site-packages/neuron_explainer/api_client.py:137\u001b[0m, in \u001b[0;36mApiClient.make_request\u001b[0;34m(self, timeout_seconds, **kwargs)\u001b[0m\n\u001b[1;32m    134\u001b[0m \u001b[38;5;66;03m# The response json has useful information but the exception doesn't include it, so print it\u001b[39;00m\n\u001b[1;32m    135\u001b[0m \u001b[38;5;66;03m# out then reraise.\u001b[39;00m\n\u001b[1;32m    136\u001b[0m \u001b[38;5;28;01mtry\u001b[39;00m:\n\u001b[0;32m--> 137\u001b[0m     \u001b[43mresponse\u001b[49m\u001b[38;5;241;43m.\u001b[39;49m\u001b[43mraise_for_status\u001b[49m\u001b[43m(\u001b[49m\u001b[43m)\u001b[49m\n\u001b[1;32m    138\u001b[0m \u001b[38;5;28;01mexcept\u001b[39;00m \u001b[38;5;167;01mException\u001b[39;00m \u001b[38;5;28;01mas\u001b[39;00m e:\n\u001b[1;32m    139\u001b[0m     \u001b[38;5;28mprint\u001b[39m(response\u001b[38;5;241m.\u001b[39mjson())\n",
      "File \u001b[0;32m~/anaconda3/envs/llm-venv/lib/python3.9/site-packages/httpx/_models.py:761\u001b[0m, in \u001b[0;36mResponse.raise_for_status\u001b[0;34m(self)\u001b[0m\n\u001b[1;32m    759\u001b[0m error_type \u001b[38;5;241m=\u001b[39m error_types\u001b[38;5;241m.\u001b[39mget(status_class, \u001b[38;5;124m\"\u001b[39m\u001b[38;5;124mInvalid status code\u001b[39m\u001b[38;5;124m\"\u001b[39m)\n\u001b[1;32m    760\u001b[0m message \u001b[38;5;241m=\u001b[39m message\u001b[38;5;241m.\u001b[39mformat(\u001b[38;5;28mself\u001b[39m, error_type\u001b[38;5;241m=\u001b[39merror_type)\n\u001b[0;32m--> 761\u001b[0m \u001b[38;5;28;01mraise\u001b[39;00m HTTPStatusError(message, request\u001b[38;5;241m=\u001b[39mrequest, response\u001b[38;5;241m=\u001b[39m\u001b[38;5;28mself\u001b[39m)\n",
      "\u001b[0;31mHTTPStatusError\u001b[0m: Client error '400 Bad Request' for url 'https://api.openai.com/v1/completions'\nFor more information check: https://developer.mozilla.org/en-US/docs/Web/HTTP/Status/400"
     ]
    },
    {
     "name": "stdout",
     "output_type": "stream",
     "text": [
      "{'error': {'message': \"Setting 'echo' and 'logprobs' at the same time is not supported for this model.\", 'type': 'invalid_request_error', 'param': 'echo', 'code': 'invalid_parameter_combination'}}\n",
      "{'error': {'message': \"Setting 'echo' and 'logprobs' at the same time is not supported for this model.\", 'type': 'invalid_request_error', 'param': 'echo', 'code': 'invalid_parameter_combination'}}\n",
      "{'error': {'message': \"Setting 'echo' and 'logprobs' at the same time is not supported for this model.\", 'type': 'invalid_request_error', 'param': 'echo', 'code': 'invalid_parameter_combination'}}\n",
      "{'error': {'message': \"Setting 'echo' and 'logprobs' at the same time is not supported for this model.\", 'type': 'invalid_request_error', 'param': 'echo', 'code': 'invalid_parameter_combination'}}\n",
      "{'error': {'message': \"Setting 'echo' and 'logprobs' at the same time is not supported for this model.\", 'type': 'invalid_request_error', 'param': 'echo', 'code': 'invalid_parameter_combination'}}\n",
      "{'error': {'message': \"Setting 'echo' and 'logprobs' at the same time is not supported for this model.\", 'type': 'invalid_request_error', 'param': 'echo', 'code': 'invalid_parameter_combination'}}\n",
      "{'error': {'message': \"Setting 'echo' and 'logprobs' at the same time is not supported for this model.\", 'type': 'invalid_request_error', 'param': 'echo', 'code': 'invalid_parameter_combination'}}\n",
      "{'error': {'message': \"Setting 'echo' and 'logprobs' at the same time is not supported for this model.\", 'type': 'invalid_request_error', 'param': 'echo', 'code': 'invalid_parameter_combination'}}\n",
      "{'error': {'message': \"Setting 'echo' and 'logprobs' at the same time is not supported for this model.\", 'type': 'invalid_request_error', 'param': 'echo', 'code': 'invalid_parameter_combination'}}\n"
     ]
    }
   ],
   "source": [
    "import os\n",
    "\n",
    "os.environ[\"OPENAI_API_KEY\"] = \"\"\n",
    "\n",
    "\n",
    "from neuron_explainer.activations.activation_records import calculate_max_activation\n",
    "from neuron_explainer.activations.activations import ActivationRecordSliceParams, load_neuron\n",
    "from neuron_explainer.explanations.calibrated_simulator import UncalibratedNeuronSimulator\n",
    "from neuron_explainer.explanations.explainer import TokenActivationPairExplainer\n",
    "from neuron_explainer.explanations.prompt_builder import PromptFormat\n",
    "from neuron_explainer.explanations.scoring import simulate_and_score\n",
    "from neuron_explainer.explanations.simulator import ExplanationNeuronSimulator\n",
    "\n",
    "EXPLAINER_MODEL_NAME = \"gpt-4\"\n",
    "SIMULATOR_MODEL_NAME = \"gpt-3.5-turbo-instruct\"\n",
    "\n",
    "\n",
    "# test_response = await client.make_request(prompt=\"test 123<|endofprompt|>\", max_tokens=2)\n",
    "# print(\"Response:\", test_response[\"choices\"][0][\"text\"])\n",
    "\n",
    "# Load a neuron record.\n",
    "neuron_record = load_neuron(9, 6236)\n",
    "\n",
    "# Grab the activation records we'll need.\n",
    "slice_params = ActivationRecordSliceParams(n_examples_per_split=5)\n",
    "train_activation_records = neuron_record.train_activation_records(\n",
    "    activation_record_slice_params=slice_params\n",
    ")\n",
    "valid_activation_records = neuron_record.valid_activation_records(\n",
    "    activation_record_slice_params=slice_params\n",
    ")\n",
    "\n",
    "# Generate an explanation for the neuron.\n",
    "explainer = TokenActivationPairExplainer(\n",
    "    model_name=EXPLAINER_MODEL_NAME,\n",
    "    prompt_format=PromptFormat.HARMONY_V4,\n",
    "    max_concurrent=1,\n",
    ")\n",
    "explanations = await explainer.generate_explanations(\n",
    "    all_activation_records=train_activation_records,\n",
    "    max_activation=calculate_max_activation(train_activation_records),\n",
    "    num_samples=1,\n",
    ")\n",
    "assert len(explanations) == 1\n",
    "explanation = explanations[0]\n",
    "print(f\"{explanation=}\")\n",
    "\n",
    "# Simulate and score the explanation.\n",
    "simulator = UncalibratedNeuronSimulator(\n",
    "    ExplanationNeuronSimulator(\n",
    "        SIMULATOR_MODEL_NAME,\n",
    "        explanation,\n",
    "        max_concurrent=1,\n",
    "        prompt_format=PromptFormat.INSTRUCTION_FOLLOWING,\n",
    "    )\n",
    ")\n",
    "\n",
    "scored_simulation = await simulate_and_score(simulator, valid_activation_records)\n",
    "print(f\"score={scored_simulation.get_preferred_score():.2f}\")\n"
   ]
  },
  {
   "cell_type": "code",
   "execution_count": null,
   "metadata": {},
   "outputs": [],
   "source": []
  }
 ],
 "metadata": {
  "kernelspec": {
   "display_name": "openai",
   "language": "python",
   "name": "python3"
  },
  "language_info": {
   "codemirror_mode": {
    "name": "ipython",
    "version": 3
   },
   "file_extension": ".py",
   "mimetype": "text/x-python",
   "name": "python",
   "nbconvert_exporter": "python",
   "pygments_lexer": "ipython3",
   "version": "3.9.19"
  },
  "orig_nbformat": 4
 },
 "nbformat": 4,
 "nbformat_minor": 2
}
